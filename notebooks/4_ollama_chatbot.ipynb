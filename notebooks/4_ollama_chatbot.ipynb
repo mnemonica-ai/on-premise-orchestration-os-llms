{
 "cells": [
  {
   "cell_type": "markdown",
   "id": "268d6da8-e849-4250-912a-b5bfdd64109c",
   "metadata": {},
   "source": [
    "### Simple ChatBot using Oshepherd\n",
    "\n",
    "Pointing ollama package to a custom local url where oshepherd api server is running."
   ]
  },
  {
   "cell_type": "code",
   "execution_count": 27,
   "id": "34337e4e-b38b-45bc-8559-3ea46388a4d0",
   "metadata": {},
   "outputs": [],
   "source": [
    "import ollama"
   ]
  },
  {
   "cell_type": "code",
   "execution_count": 28,
   "id": "76678037-9078-44c4-af8a-70d640835163",
   "metadata": {},
   "outputs": [],
   "source": [
    "SYSTEM_PROMPT = \"\"\"\n",
    "You are a translation bot designed solely to translate content from English to Spanish.\n",
    "Translate everything the user says into Spanish, without adding explanations or extra comments.\n",
    "\"\"\""
   ]
  },
  {
   "cell_type": "code",
   "execution_count": 29,
   "id": "3e03c295-bfc7-4423-a32e-94905dd7fa22",
   "metadata": {},
   "outputs": [],
   "source": [
    "HOST = \"http://127.0.0.1:5001\""
   ]
  },
  {
   "cell_type": "code",
   "execution_count": 30,
   "id": "8055ceae-19d2-402d-bc4e-0680a6a1c5f8",
   "metadata": {},
   "outputs": [],
   "source": [
    "class OllamaChatBot:\n",
    "    def __init__(self, model: str, host: str = None, system_prompt: str = None):\n",
    "        self.model = model\n",
    "        self.host = host\n",
    "        self.system_prompt = system_prompt\n",
    "        self.messages = []\n",
    "        self.init_conversation()\n",
    "        self.client = ollama.Client(host=host) if host else ollama\n",
    "\n",
    "    def init_conversation(self):\n",
    "        self.messages = []\n",
    "        if self.system_prompt:\n",
    "            self.messages.append({\"role\": \"system\", \"content\": self.system_prompt})\n",
    "\n",
    "    def ask(self, user_input: str) -> str:\n",
    "        self.messages.append({\"role\": \"user\", \"content\": user_input})\n",
    "        response = self.client.chat(model=self.model, messages=self.messages)\n",
    "        self.messages.append(\n",
    "            {\"role\": \"assistant\", \"content\": response[\"message\"][\"content\"]}\n",
    "        )\n",
    "        content = response[\"message\"][\"content\"]\n",
    "        return content\n",
    "\n",
    "    def clear_history(self):\n",
    "        self.init_conversation()"
   ]
  },
  {
   "cell_type": "code",
   "execution_count": null,
   "id": "2bc79217-0965-48d6-9063-eca7879d0fb1",
   "metadata": {},
   "outputs": [],
   "source": []
  },
  {
   "cell_type": "code",
   "execution_count": 31,
   "id": "614c1981-b15b-4ff6-976b-41fc4fc1801f",
   "metadata": {},
   "outputs": [
    {
     "data": {
      "text/plain": [
       "' Hola PyCon Austria!\\n\\n(Note: PyCon is a series of conferences focused on the programming language Python.)'"
      ]
     },
     "execution_count": 31,
     "metadata": {},
     "output_type": "execute_result"
    }
   ],
   "source": [
    "chatbot = OllamaChatBot(model=\"mistral:7b\", system_prompt=SYSTEM_PROMPT, host=HOST)\n",
    "chatbot.ask(\"Hello PyCon Austria!\")"
   ]
  },
  {
   "cell_type": "code",
   "execution_count": null,
   "id": "86cf5827-5b53-4d25-9784-bfe67677453c",
   "metadata": {},
   "outputs": [],
   "source": []
  },
  {
   "cell_type": "code",
   "execution_count": null,
   "id": "8c11381e-ec36-4d8c-8fe3-214d5516d92c",
   "metadata": {},
   "outputs": [],
   "source": []
  },
  {
   "cell_type": "code",
   "execution_count": null,
   "id": "b404f361-8bbb-4cdc-af56-fe60c8f9fbe8",
   "metadata": {},
   "outputs": [],
   "source": []
  }
 ],
 "metadata": {
  "kernelspec": {
   "display_name": "Python 3 (ipykernel)",
   "language": "python",
   "name": "python3"
  },
  "language_info": {
   "codemirror_mode": {
    "name": "ipython",
    "version": 3
   },
   "file_extension": ".py",
   "mimetype": "text/x-python",
   "name": "python",
   "nbconvert_exporter": "python",
   "pygments_lexer": "ipython3",
   "version": "3.12.9"
  }
 },
 "nbformat": 4,
 "nbformat_minor": 5
}
