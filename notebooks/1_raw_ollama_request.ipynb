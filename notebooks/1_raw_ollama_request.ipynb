{
 "cells": [
  {
   "cell_type": "markdown",
   "id": "268d6da8-e849-4250-912a-b5bfdd64109c",
   "metadata": {},
   "source": [
    "### Raw Ollama & request examples\n",
    "\n",
    "Pointing ollama package to a custom local url where oshepherd api server is running."
   ]
  },
  {
   "cell_type": "code",
   "execution_count": 10,
   "id": "34337e4e-b38b-45bc-8559-3ea46388a4d0",
   "metadata": {},
   "outputs": [],
   "source": [
    "import json\n",
    "import requests\n",
    "import ollama"
   ]
  },
  {
   "cell_type": "code",
   "execution_count": 11,
   "id": "0dae6424-f2dc-4629-89f9-6a59c6ef9a63",
   "metadata": {},
   "outputs": [],
   "source": [
    "# ollama server\n",
    "# HOST = \"http://127.0.0.1:11434\"\n",
    "# oshepherd server\n",
    "HOST = \"http://127.0.0.1:5001\""
   ]
  },
  {
   "cell_type": "code",
   "execution_count": 12,
   "id": "76678037-9078-44c4-af8a-70d640835163",
   "metadata": {},
   "outputs": [],
   "source": [
    "params = {\"model\": \"mistral:7b\", \"prompt\": \"Why is the sky is not green?\"}\n",
    "client = ollama.Client(host=HOST)\n",
    "ollama_res = client.generate(**params)"
   ]
  },
  {
   "cell_type": "code",
   "execution_count": 13,
   "id": "8055ceae-19d2-402d-bc4e-0680a6a1c5f8",
   "metadata": {},
   "outputs": [
    {
     "data": {
      "text/plain": [
       "'{\"The sky appears blue or sometimes white, not green, for several reasons. The primary reason is the scattering of sunlight in the Earth\\'s atmosphere. Blue light has a shorter wavelength and gets scattered more easily than other colors, making it more prevalent in our daily sky observations.\"\\n\\n \\n\\n \\n \\n \\n \\n \\n \\n \\n \\n \\n \\n \\n \\n \\n'"
      ]
     },
     "execution_count": 13,
     "metadata": {},
     "output_type": "execute_result"
    }
   ],
   "source": [
    "ollama_res.response"
   ]
  },
  {
   "cell_type": "code",
   "execution_count": null,
   "id": "2bc79217-0965-48d6-9063-eca7879d0fb1",
   "metadata": {},
   "outputs": [],
   "source": []
  },
  {
   "cell_type": "code",
   "execution_count": 8,
   "id": "614c1981-b15b-4ff6-976b-41fc4fc1801f",
   "metadata": {},
   "outputs": [],
   "source": [
    "GENERATE_ENDPOINT = f\"{HOST}/api/generate/\"\n",
    "data = {\"model\": \"gemma3:4b\", \"prompt\": \"Why is the sky blue?\"}\n",
    "response = requests.post(\n",
    "    GENERATE_ENDPOINT,\n",
    "    headers={\"Content-Type\": \"application/json\"},\n",
    "    data=json.dumps(data),\n",
    ")"
   ]
  },
  {
   "cell_type": "code",
   "execution_count": 9,
   "id": "86cf5827-5b53-4d25-9784-bfe67677453c",
   "metadata": {},
   "outputs": [
    {
     "data": {
      "text/plain": [
       "'{\\n\\n\"question\": \"Why is the sky blue?\",\\n\"answer\": \"The sky is blue due to a phenomenon called **Rayleigh scattering**. Here\\'s a breakdown of how it works:\\\\n\\\\n1. **Sunlight and Colors:** Sunlight is actually made up of *all* the colors of the rainbow. We see it as white light.\\\\n\\\\n2. **Entering the Atmosphere:** When sunlight enters the Earth\\'s atmosphere, it bumps into tiny air molecules (mostly nitrogen and oxygen).\\\\n\\\\n3. **Scattering of Light:** This bumping causes the light to scatter in different directions.  Crucially, shorter wavelengths of light (blue and violet) are scattered *much* more strongly than longer wavelengths (like red and orange).\\\\n\\\\n4. **Why Blue More Than Violet?:** Although violet light is scattered even more than blue, our eyes are more sensitive to blue light, and the sun emits slightly less violet light.  Additionally, the atmosphere absorbs some of the violet light.\\\\n\\\\n**So, you see blue because blue light is scattered all over the sky by the air molecules.**\\\\n\\\\n**Why sunsets are red/orange:** At sunset and sunrise, the sunlight has to travel through *much* more of the atmosphere to reach your eyes.  Because the blue light has been scattered away along its longer path, the longer wavelengths (red and orange) are what remain and reach your eyes.\\\\n\\\\n**Resources for further learning:**\\\\n*   [NASA - Why is the sky blue?](https://science.nasa.gov/sky-blue/)\\\\n*   [HowStuffWorks - Why is the sky blue?](https://science.howstuffworks.com/why-is-the-sky-blue.html)\"\\n}\\n'"
      ]
     },
     "execution_count": 9,
     "metadata": {},
     "output_type": "execute_result"
    }
   ],
   "source": [
    "response.json()[\"response\"]"
   ]
  },
  {
   "cell_type": "code",
   "execution_count": null,
   "id": "8c11381e-ec36-4d8c-8fe3-214d5516d92c",
   "metadata": {},
   "outputs": [],
   "source": []
  },
  {
   "cell_type": "code",
   "execution_count": null,
   "id": "b404f361-8bbb-4cdc-af56-fe60c8f9fbe8",
   "metadata": {},
   "outputs": [],
   "source": []
  },
  {
   "cell_type": "code",
   "execution_count": null,
   "id": "e812d193-9ef8-47aa-83dc-692001932035",
   "metadata": {},
   "outputs": [],
   "source": []
  }
 ],
 "metadata": {
  "kernelspec": {
   "display_name": "Python 3 (ipykernel)",
   "language": "python",
   "name": "python3"
  },
  "language_info": {
   "codemirror_mode": {
    "name": "ipython",
    "version": 3
   },
   "file_extension": ".py",
   "mimetype": "text/x-python",
   "name": "python",
   "nbconvert_exporter": "python",
   "pygments_lexer": "ipython3",
   "version": "3.12.9"
  }
 },
 "nbformat": 4,
 "nbformat_minor": 5
}
